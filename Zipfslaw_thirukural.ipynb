{
  "nbformat": 4,
  "nbformat_minor": 0,
  "metadata": {
    "colab": {
      "provenance": []
    },
    "kernelspec": {
      "name": "python3",
      "display_name": "Python 3"
    },
    "language_info": {
      "name": "python"
    }
  },
  "cells": [
    {
      "cell_type": "markdown",
      "source": [
        "Objective : To check application of zif's law on classic Tamil language text consisting **Thirukural** which of 1,330 short couplets, seven words each. 3 units /adikarams"
      ],
      "metadata": {
        "id": "XqAviZn54xrH"
      }
    },
    {
      "cell_type": "markdown",
      "source": [
        "Zipf's law states that the frequency of any word in a text is inversely proportional to its rank in the frequency table. In simpler terms, it means that the most common word appears approximately twice as often as the second most common word, three times as often as the third most common word, and so on. This relationship follows a power-law distribution.\n"
      ],
      "metadata": {
        "id": "kolEStlr-FZh"
      }
    },
    {
      "cell_type": "code",
      "execution_count": 39,
      "metadata": {
        "id": "_PrSQ5fq4j7q"
      },
      "outputs": [],
      "source": [
        "import collections"
      ]
    },
    {
      "cell_type": "code",
      "source": [
        "def _remove_punctuation(text):\n",
        "    chars_to_remove = \"!\\\"#$%&'()*+,-./:;<=>?@[\\]^_`{|}~0123456789\"\n",
        "    tr = str.maketrans(\"\", \"\", chars_to_remove)\n",
        "    return text.translate(tr)"
      ],
      "metadata": {
        "id": "NnHKI8u55Nfp"
      },
      "execution_count": 40,
      "outputs": []
    },
    {
      "cell_type": "code",
      "source": [
        "def _top_word_frequencies(text):\n",
        "  #outputs list of tuples which has words and thier frequency\n",
        "    words = text.split() # splits sentences with whitespace chracter\n",
        "    global word_frequencies\n",
        "    word_frequencies = collections.Counter(words)#counts word frequency\n",
        "\n",
        "# most_common() returns a list of top 'n' elements from most common to least common, as specified the parameter 'n'.\n",
        "    top_word_frequencies = word_frequencies.most_common()\n",
        "\n",
        "    return top_word_frequencies"
      ],
      "metadata": {
        "id": "q65APer5551q"
      },
      "execution_count": 41,
      "outputs": []
    },
    {
      "cell_type": "code",
      "source": [
        "def _create_zipf_table(frequencies):\n",
        "    zipf_table = []\n",
        "    top_frequency = frequencies[0][1]\n",
        "    for index, item in enumerate(frequencies, start=1):\n",
        "\n",
        "        relative_frequency = \"1/{}\".format(index)\n",
        "        zipf_frequency = top_frequency * (1 / index)\n",
        "        difference_actual = item[1] - zipf_frequency\n",
        "        difference_percent = (item[1] / zipf_frequency) * 100\n",
        "\n",
        "        zipf_table.append({\"word\": item[0],\n",
        "                           \"actual_frequency\": item[1],\n",
        "                           \"relative_frequency\": relative_frequency,\n",
        "                           \"zipf_frequency\": zipf_frequency,\n",
        "                           \"difference_actual\": difference_actual,\n",
        "                           \"difference_percent\": difference_percent})\n",
        "\n",
        "    return zipf_table"
      ],
      "metadata": {
        "id": "sRniI7Am7fgD"
      },
      "execution_count": 42,
      "outputs": []
    },
    {
      "cell_type": "code",
      "source": [
        "def print_zipf_table(zipf_table):\n",
        "    width = 80\n",
        "    print(\"-\" * width)\n",
        "    print(\"|Rank|    Word    |Actual Freq | Zipf Frac  | Zipf Freq  |Actual Diff |Pct Diff|\")\n",
        "    print(\"-\" * width)\n",
        "\n",
        "    format_string = \"|{:4}|{:12}|{:12.0f}|{:>12}|{:12.2f}|{:12.2f}|{:7.2f}%|\"\n",
        "\n",
        "    for index, item in enumerate(zipf_table, start=1):\n",
        "\n",
        "        print(format_string.format(index,\n",
        "                                   item[\"word\"],\n",
        "                                   item[\"actual_frequency\"],\n",
        "                                   item[\"relative_frequency\"],\n",
        "                                   item[\"zipf_frequency\"],\n",
        "                                   item[\"difference_actual\"],\n",
        "                                   item[\"difference_percent\"]))\n",
        "\n",
        "    print(\"-\" * width)"
      ],
      "metadata": {
        "id": "HoFrmQG373H1"
      },
      "execution_count": 43,
      "outputs": []
    },
    {
      "cell_type": "code",
      "source": [
        "import pandas as pd\n",
        "\n",
        "df = pd.read_csv('/content/drive/MyDrive/dataset/Thirukural.csv')\n",
        "df"
      ],
      "metadata": {
        "colab": {
          "base_uri": "https://localhost:8080/",
          "height": 641
        },
        "id": "nQZiR_UyAxvP",
        "outputId": "618c9933-6289-444b-f561-f7359f103bac"
      },
      "execution_count": 44,
      "outputs": [
        {
          "output_type": "execute_result",
          "data": {
            "text/plain": [
              "        Chapter Name       Section Name  \\\n",
              "0      அறத்துப்பால்    கடவுள் வாழ்த்து    \n",
              "1      அறத்துப்பால்    கடவுள் வாழ்த்து    \n",
              "2      அறத்துப்பால்    கடவுள் வாழ்த்து    \n",
              "3      அறத்துப்பால்    கடவுள் வாழ்த்து    \n",
              "4      அறத்துப்பால்    கடவுள் வாழ்த்து    \n",
              "...              ...                ...   \n",
              "1325  காமத்துப்பால்            ஊடலுவகை    \n",
              "1326  காமத்துப்பால்            ஊடலுவகை    \n",
              "1327  காமத்துப்பால்            ஊடலுவகை    \n",
              "1328  காமத்துப்பால்            ஊடலுவகை    \n",
              "1329  காமத்துப்பால்            ஊடலுவகை    \n",
              "\n",
              "                                                  Verse  \\\n",
              "0     அகர\\tமுதல\\tஎழுத்தெல்லாம்\\tஆதி\\t\\t\\tபகவன்\\tமுதற...   \n",
              "1     கற்றதனால்\\tஆய\\tபயனென்கொல்\\tவாலறிவன்\\t\\t\\tநற்றா...   \n",
              "2     மலர்மிசை\\tஏகினான்\\tமாணடி\\tசேர்ந்தார்\\t\\t\\tநிலம...   \n",
              "3     வேண்டுதல்\\tவேண்டாமை\\tஇலானடி\\tசேர்ந்தார்க்கு\\t\\...   \n",
              "4     இருள்சேர்\\tஇருவினையும்\\tசேரா\\tஇறைவன்\\t\\t\\tபொரு...   \n",
              "...                                                 ...   \n",
              "1325  உணலினும்\\tஉண்டது\\tஅறல்இனிது\\tகாமம்\\t\\t\\tபுணர்த...   \n",
              "1326  ஊடலில்\\tதோற்றவர்\\tவென்றார்\\tஅதுமன்னும்\\t\\t\\tகூ...   \n",
              "1327  ஊடிப்\\tபெறுகுவம்\\tகொல்லோ\\tநுதல்வெயர்ப்பக்\\t\\t\\...   \n",
              "1328  ஊடுக\\tமன்னோ\\tஒளியிழை\\tயாமிரப்ப\\t\\t\\tநீடுக\\tமன்...   \n",
              "1329  ஊடுதல்\\tகாமத்திற்கு\\tஇன்பம்\\tஅதற்கின்பம்\\t\\t\\t...   \n",
              "\n",
              "                                            Translation  \n",
              "0     A, as its first of letters, every speech maint...  \n",
              "1     No fruit have men of all their studied lore, S...  \n",
              "2     His feet, 'Who o'er the full-blown flower hath...  \n",
              "3     His foot, 'Whom want affects not, irks not gri...  \n",
              "4     The men, who on the 'King's' true praised deli...  \n",
              "...                                                 ...  \n",
              "1325  'Tis sweeter to digest your food than 'tis to ...  \n",
              "1326  In lovers' quarrels, 'tis the one that first g...  \n",
              "1327  And shall we ever more the sweetness know of t...  \n",
              "1328  Let her, whose jewels brightly shine, aversion...  \n",
              "1329  A 'feigned aversion' coy to pleasure gives a z...  \n",
              "\n",
              "[1330 rows x 4 columns]"
            ],
            "text/html": [
              "\n",
              "\n",
              "  <div id=\"df-8e270a7c-c6aa-4653-9e55-216818e32b30\">\n",
              "    <div class=\"colab-df-container\">\n",
              "      <div>\n",
              "<style scoped>\n",
              "    .dataframe tbody tr th:only-of-type {\n",
              "        vertical-align: middle;\n",
              "    }\n",
              "\n",
              "    .dataframe tbody tr th {\n",
              "        vertical-align: top;\n",
              "    }\n",
              "\n",
              "    .dataframe thead th {\n",
              "        text-align: right;\n",
              "    }\n",
              "</style>\n",
              "<table border=\"1\" class=\"dataframe\">\n",
              "  <thead>\n",
              "    <tr style=\"text-align: right;\">\n",
              "      <th></th>\n",
              "      <th>Chapter Name</th>\n",
              "      <th>Section Name</th>\n",
              "      <th>Verse</th>\n",
              "      <th>Translation</th>\n",
              "    </tr>\n",
              "  </thead>\n",
              "  <tbody>\n",
              "    <tr>\n",
              "      <th>0</th>\n",
              "      <td>அறத்துப்பால்</td>\n",
              "      <td>கடவுள் வாழ்த்து</td>\n",
              "      <td>அகர\\tமுதல\\tஎழுத்தெல்லாம்\\tஆதி\\t\\t\\tபகவன்\\tமுதற...</td>\n",
              "      <td>A, as its first of letters, every speech maint...</td>\n",
              "    </tr>\n",
              "    <tr>\n",
              "      <th>1</th>\n",
              "      <td>அறத்துப்பால்</td>\n",
              "      <td>கடவுள் வாழ்த்து</td>\n",
              "      <td>கற்றதனால்\\tஆய\\tபயனென்கொல்\\tவாலறிவன்\\t\\t\\tநற்றா...</td>\n",
              "      <td>No fruit have men of all their studied lore, S...</td>\n",
              "    </tr>\n",
              "    <tr>\n",
              "      <th>2</th>\n",
              "      <td>அறத்துப்பால்</td>\n",
              "      <td>கடவுள் வாழ்த்து</td>\n",
              "      <td>மலர்மிசை\\tஏகினான்\\tமாணடி\\tசேர்ந்தார்\\t\\t\\tநிலம...</td>\n",
              "      <td>His feet, 'Who o'er the full-blown flower hath...</td>\n",
              "    </tr>\n",
              "    <tr>\n",
              "      <th>3</th>\n",
              "      <td>அறத்துப்பால்</td>\n",
              "      <td>கடவுள் வாழ்த்து</td>\n",
              "      <td>வேண்டுதல்\\tவேண்டாமை\\tஇலானடி\\tசேர்ந்தார்க்கு\\t\\...</td>\n",
              "      <td>His foot, 'Whom want affects not, irks not gri...</td>\n",
              "    </tr>\n",
              "    <tr>\n",
              "      <th>4</th>\n",
              "      <td>அறத்துப்பால்</td>\n",
              "      <td>கடவுள் வாழ்த்து</td>\n",
              "      <td>இருள்சேர்\\tஇருவினையும்\\tசேரா\\tஇறைவன்\\t\\t\\tபொரு...</td>\n",
              "      <td>The men, who on the 'King's' true praised deli...</td>\n",
              "    </tr>\n",
              "    <tr>\n",
              "      <th>...</th>\n",
              "      <td>...</td>\n",
              "      <td>...</td>\n",
              "      <td>...</td>\n",
              "      <td>...</td>\n",
              "    </tr>\n",
              "    <tr>\n",
              "      <th>1325</th>\n",
              "      <td>காமத்துப்பால்</td>\n",
              "      <td>ஊடலுவகை</td>\n",
              "      <td>உணலினும்\\tஉண்டது\\tஅறல்இனிது\\tகாமம்\\t\\t\\tபுணர்த...</td>\n",
              "      <td>'Tis sweeter to digest your food than 'tis to ...</td>\n",
              "    </tr>\n",
              "    <tr>\n",
              "      <th>1326</th>\n",
              "      <td>காமத்துப்பால்</td>\n",
              "      <td>ஊடலுவகை</td>\n",
              "      <td>ஊடலில்\\tதோற்றவர்\\tவென்றார்\\tஅதுமன்னும்\\t\\t\\tகூ...</td>\n",
              "      <td>In lovers' quarrels, 'tis the one that first g...</td>\n",
              "    </tr>\n",
              "    <tr>\n",
              "      <th>1327</th>\n",
              "      <td>காமத்துப்பால்</td>\n",
              "      <td>ஊடலுவகை</td>\n",
              "      <td>ஊடிப்\\tபெறுகுவம்\\tகொல்லோ\\tநுதல்வெயர்ப்பக்\\t\\t\\...</td>\n",
              "      <td>And shall we ever more the sweetness know of t...</td>\n",
              "    </tr>\n",
              "    <tr>\n",
              "      <th>1328</th>\n",
              "      <td>காமத்துப்பால்</td>\n",
              "      <td>ஊடலுவகை</td>\n",
              "      <td>ஊடுக\\tமன்னோ\\tஒளியிழை\\tயாமிரப்ப\\t\\t\\tநீடுக\\tமன்...</td>\n",
              "      <td>Let her, whose jewels brightly shine, aversion...</td>\n",
              "    </tr>\n",
              "    <tr>\n",
              "      <th>1329</th>\n",
              "      <td>காமத்துப்பால்</td>\n",
              "      <td>ஊடலுவகை</td>\n",
              "      <td>ஊடுதல்\\tகாமத்திற்கு\\tஇன்பம்\\tஅதற்கின்பம்\\t\\t\\t...</td>\n",
              "      <td>A 'feigned aversion' coy to pleasure gives a z...</td>\n",
              "    </tr>\n",
              "  </tbody>\n",
              "</table>\n",
              "<p>1330 rows × 4 columns</p>\n",
              "</div>\n",
              "      <button class=\"colab-df-convert\" onclick=\"convertToInteractive('df-8e270a7c-c6aa-4653-9e55-216818e32b30')\"\n",
              "              title=\"Convert this dataframe to an interactive table.\"\n",
              "              style=\"display:none;\">\n",
              "\n",
              "  <svg xmlns=\"http://www.w3.org/2000/svg\" height=\"24px\"viewBox=\"0 0 24 24\"\n",
              "       width=\"24px\">\n",
              "    <path d=\"M0 0h24v24H0V0z\" fill=\"none\"/>\n",
              "    <path d=\"M18.56 5.44l.94 2.06.94-2.06 2.06-.94-2.06-.94-.94-2.06-.94 2.06-2.06.94zm-11 1L8.5 8.5l.94-2.06 2.06-.94-2.06-.94L8.5 2.5l-.94 2.06-2.06.94zm10 10l.94 2.06.94-2.06 2.06-.94-2.06-.94-.94-2.06-.94 2.06-2.06.94z\"/><path d=\"M17.41 7.96l-1.37-1.37c-.4-.4-.92-.59-1.43-.59-.52 0-1.04.2-1.43.59L10.3 9.45l-7.72 7.72c-.78.78-.78 2.05 0 2.83L4 21.41c.39.39.9.59 1.41.59.51 0 1.02-.2 1.41-.59l7.78-7.78 2.81-2.81c.8-.78.8-2.07 0-2.86zM5.41 20L4 18.59l7.72-7.72 1.47 1.35L5.41 20z\"/>\n",
              "  </svg>\n",
              "      </button>\n",
              "\n",
              "\n",
              "\n",
              "    <div id=\"df-a25682a1-5b52-4ac1-a4b6-efc292e55b0d\">\n",
              "      <button class=\"colab-df-quickchart\" onclick=\"quickchart('df-a25682a1-5b52-4ac1-a4b6-efc292e55b0d')\"\n",
              "              title=\"Suggest charts.\"\n",
              "              style=\"display:none;\">\n",
              "\n",
              "<svg xmlns=\"http://www.w3.org/2000/svg\" height=\"24px\"viewBox=\"0 0 24 24\"\n",
              "     width=\"24px\">\n",
              "    <g>\n",
              "        <path d=\"M19 3H5c-1.1 0-2 .9-2 2v14c0 1.1.9 2 2 2h14c1.1 0 2-.9 2-2V5c0-1.1-.9-2-2-2zM9 17H7v-7h2v7zm4 0h-2V7h2v10zm4 0h-2v-4h2v4z\"/>\n",
              "    </g>\n",
              "</svg>\n",
              "      </button>\n",
              "    </div>\n",
              "\n",
              "<style>\n",
              "  .colab-df-quickchart {\n",
              "    background-color: #E8F0FE;\n",
              "    border: none;\n",
              "    border-radius: 50%;\n",
              "    cursor: pointer;\n",
              "    display: none;\n",
              "    fill: #1967D2;\n",
              "    height: 32px;\n",
              "    padding: 0 0 0 0;\n",
              "    width: 32px;\n",
              "  }\n",
              "\n",
              "  .colab-df-quickchart:hover {\n",
              "    background-color: #E2EBFA;\n",
              "    box-shadow: 0px 1px 2px rgba(60, 64, 67, 0.3), 0px 1px 3px 1px rgba(60, 64, 67, 0.15);\n",
              "    fill: #174EA6;\n",
              "  }\n",
              "\n",
              "  [theme=dark] .colab-df-quickchart {\n",
              "    background-color: #3B4455;\n",
              "    fill: #D2E3FC;\n",
              "  }\n",
              "\n",
              "  [theme=dark] .colab-df-quickchart:hover {\n",
              "    background-color: #434B5C;\n",
              "    box-shadow: 0px 1px 3px 1px rgba(0, 0, 0, 0.15);\n",
              "    filter: drop-shadow(0px 1px 2px rgba(0, 0, 0, 0.3));\n",
              "    fill: #FFFFFF;\n",
              "  }\n",
              "</style>\n",
              "\n",
              "    <script>\n",
              "      async function quickchart(key) {\n",
              "        const containerElement = document.querySelector('#' + key);\n",
              "        const charts = await google.colab.kernel.invokeFunction(\n",
              "            'suggestCharts', [key], {});\n",
              "      }\n",
              "    </script>\n",
              "\n",
              "      <script>\n",
              "\n",
              "function displayQuickchartButton(domScope) {\n",
              "  let quickchartButtonEl =\n",
              "    domScope.querySelector('#df-a25682a1-5b52-4ac1-a4b6-efc292e55b0d button.colab-df-quickchart');\n",
              "  quickchartButtonEl.style.display =\n",
              "    google.colab.kernel.accessAllowed ? 'block' : 'none';\n",
              "}\n",
              "\n",
              "        displayQuickchartButton(document);\n",
              "      </script>\n",
              "      <style>\n",
              "    .colab-df-container {\n",
              "      display:flex;\n",
              "      flex-wrap:wrap;\n",
              "      gap: 12px;\n",
              "    }\n",
              "\n",
              "    .colab-df-convert {\n",
              "      background-color: #E8F0FE;\n",
              "      border: none;\n",
              "      border-radius: 50%;\n",
              "      cursor: pointer;\n",
              "      display: none;\n",
              "      fill: #1967D2;\n",
              "      height: 32px;\n",
              "      padding: 0 0 0 0;\n",
              "      width: 32px;\n",
              "    }\n",
              "\n",
              "    .colab-df-convert:hover {\n",
              "      background-color: #E2EBFA;\n",
              "      box-shadow: 0px 1px 2px rgba(60, 64, 67, 0.3), 0px 1px 3px 1px rgba(60, 64, 67, 0.15);\n",
              "      fill: #174EA6;\n",
              "    }\n",
              "\n",
              "    [theme=dark] .colab-df-convert {\n",
              "      background-color: #3B4455;\n",
              "      fill: #D2E3FC;\n",
              "    }\n",
              "\n",
              "    [theme=dark] .colab-df-convert:hover {\n",
              "      background-color: #434B5C;\n",
              "      box-shadow: 0px 1px 3px 1px rgba(0, 0, 0, 0.15);\n",
              "      filter: drop-shadow(0px 1px 2px rgba(0, 0, 0, 0.3));\n",
              "      fill: #FFFFFF;\n",
              "    }\n",
              "  </style>\n",
              "\n",
              "      <script>\n",
              "        const buttonEl =\n",
              "          document.querySelector('#df-8e270a7c-c6aa-4653-9e55-216818e32b30 button.colab-df-convert');\n",
              "        buttonEl.style.display =\n",
              "          google.colab.kernel.accessAllowed ? 'block' : 'none';\n",
              "\n",
              "        async function convertToInteractive(key) {\n",
              "          const element = document.querySelector('#df-8e270a7c-c6aa-4653-9e55-216818e32b30');\n",
              "          const dataTable =\n",
              "            await google.colab.kernel.invokeFunction('convertToInteractive',\n",
              "                                                     [key], {});\n",
              "          if (!dataTable) return;\n",
              "\n",
              "          const docLinkHtml = 'Like what you see? Visit the ' +\n",
              "            '<a target=\"_blank\" href=https://colab.research.google.com/notebooks/data_table.ipynb>data table notebook</a>'\n",
              "            + ' to learn more about interactive tables.';\n",
              "          element.innerHTML = '';\n",
              "          dataTable['output_type'] = 'display_data';\n",
              "          await google.colab.output.renderOutput(dataTable, element);\n",
              "          const docLink = document.createElement('div');\n",
              "          docLink.innerHTML = docLinkHtml;\n",
              "          element.appendChild(docLink);\n",
              "        }\n",
              "      </script>\n",
              "    </div>\n",
              "  </div>\n"
            ]
          },
          "metadata": {},
          "execution_count": 44
        }
      ]
    },
    {
      "cell_type": "code",
      "source": [
        "df['Verse'].to_csv('/content/thirukural.txt', sep=\"\\n\", index=False)"
      ],
      "metadata": {
        "id": "enKh-wVG4GRQ"
      },
      "execution_count": 45,
      "outputs": []
    },
    {
      "cell_type": "code",
      "source": [
        "def main():\n",
        "    try:\n",
        "\n",
        "        f = open(\"/content/thirukural.txt\", \"r\")\n",
        "        text = f.read()\n",
        "        f.close()\n",
        "\n",
        "        text = _remove_punctuation(text)\n",
        "\n",
        "        text = text.lower()\n",
        "\n",
        "        top_word_frequencies = _top_word_frequencies(text)\n",
        "\n",
        "        zipf_table = _create_zipf_table(top_word_frequencies)\n",
        "\n",
        "        print_zipf_table(zipf_table[0:30])\n",
        "\n",
        "                # Plot and save the Zipf distribution plot\n",
        "        plot_zipf_distribution(zipf_table)\n",
        "\n",
        "        # Save the Zipf table as a CSV file\n",
        "        save_zipf_table(zipf_table, 'zipf_table.csv')\n",
        "\n",
        "    except IOError as e:\n",
        "\n",
        "        print(e)\n",
        "\n",
        "\n",
        "main()"
      ],
      "metadata": {
        "colab": {
          "base_uri": "https://localhost:8080/",
          "height": 1000
        },
        "id": "EhvM-gSSCcKA",
        "outputId": "36041d3f-65e6-40f3-fbe6-0719aa039690"
      },
      "execution_count": 52,
      "outputs": [
        {
          "output_type": "stream",
          "name": "stdout",
          "text": [
            "--------------------------------------------------------------------------------\n",
            "|Rank|    Word    |Actual Freq | Zipf Frac  | Zipf Freq  |Actual Diff |Pct Diff|\n",
            "--------------------------------------------------------------------------------\n",
            "|   1|படும்       |          42|         1/1|       42.00|        0.00| 100.00%|\n",
            "|   2|தரும்       |          37|         1/2|       21.00|       16.00| 176.19%|\n",
            "|   3|இல்         |          32|         1/3|       14.00|       18.00| 228.57%|\n",
            "|   4|கெடும்      |          28|         1/4|       10.50|       17.50| 266.67%|\n",
            "|   5|இல்லை       |          22|         1/5|        8.40|       13.60| 261.90%|\n",
            "|   6|செயல்       |          22|         1/6|        7.00|       15.00| 314.29%|\n",
            "|   7|என்னும்     |          22|         1/7|        6.00|       16.00| 366.67%|\n",
            "|   8|தலை         |          21|         1/8|        5.25|       15.75| 400.00%|\n",
            "|   9|எல்லாம்     |          21|         1/9|        4.67|       16.33| 450.00%|\n",
            "|  10|கொளல்       |          20|        1/10|        4.20|       15.80| 476.19%|\n",
            "|  11|காமம்       |          20|        1/11|        3.82|       16.18| 523.81%|\n",
            "|  12|பெறின்      |          19|        1/12|        3.50|       15.50| 542.86%|\n",
            "|  13|பவர்        |          19|        1/13|        3.23|       15.77| 588.10%|\n",
            "|  14|உலகு        |          18|        1/14|        3.00|       15.00| 600.00%|\n",
            "|  15|அரிது       |          18|        1/15|        2.80|       15.20| 642.86%|\n",
            "|  16|இன்பம்      |          18|        1/16|        2.62|       15.38| 685.71%|\n",
            "|  17|தவர்        |          18|        1/17|        2.47|       15.53| 728.57%|\n",
            "|  18|விடல்       |          18|        1/18|        2.33|       15.67| 771.43%|\n",
            "|  19|யவர்        |          18|        1/19|        2.21|       15.79| 814.29%|\n",
            "|  20|கண்ணும்     |          18|        1/20|        2.10|       15.90| 857.14%|\n",
            "|  21|விடும்      |          17|        1/21|        2.00|       15.00| 850.00%|\n",
            "|  22|கண்         |          17|        1/22|        1.91|       15.09| 890.48%|\n",
            "|  23|கடை         |          16|        1/23|        1.83|       14.17| 876.19%|\n",
            "|  24|தற்று       |          16|        1/24|        1.75|       14.25| 914.29%|\n",
            "|  25|செயின்      |          16|        1/25|        1.68|       14.32| 952.38%|\n",
            "|  26|வேண்டும்    |          15|        1/26|        1.62|       13.38| 928.57%|\n",
            "|  27|எஞ்ஞான்றும் |          15|        1/27|        1.56|       13.44| 964.29%|\n",
            "|  28|நன்று       |          15|        1/28|        1.50|       13.50|1000.00%|\n",
            "|  29|நட்பு       |          15|        1/29|        1.45|       13.55|1035.71%|\n",
            "|  30|வார்        |          14|        1/30|        1.40|       12.60|1000.00%|\n",
            "--------------------------------------------------------------------------------\n"
          ]
        },
        {
          "output_type": "display_data",
          "data": {
            "text/plain": [
              "<Figure size 1000x600 with 1 Axes>"
            ],
            "image/png": "[encoded data removed]"
          },
          "metadata": {}
        }
      ]
    },
    {
      "cell_type": "code",
      "source": [],
      "metadata": {
        "id": "aYvMBxXg5bOe"
      },
      "execution_count": 46,
      "outputs": []
    },
    {
      "cell_type": "markdown",
      "source": [
        "The graph shows the frequency of each word in Thirukural as a function of its rank on a log-log scale. The x-axis is the rank of the word (log scale) and the y-axis is the actual frequency of the word (log scale). The graph is a blue line with square markers. The line has a steep slope at the beginning and then flattens out towards the end. This indicates that there are a few words that occur very frequently in Thirukural, while most words occur rarely or only once. The title of the graph is “Zipf Distribution of Thirukural Words”.\n"
      ],
      "metadata": {
        "id": "umhnGn_AyGi1"
      }
    },
    {
      "cell_type": "code",
      "source": [
        "import matplotlib.pyplot as plt"
      ],
      "metadata": {
        "id": "RmKXL4zfCn9m"
      },
      "execution_count": 47,
      "outputs": []
    },
    {
      "cell_type": "code",
      "source": [
        "def plot_zipf_distribution(zipf_table):\n",
        "    ranks = list(range(1, len(zipf_table) + 1))\n",
        "    actual_frequencies = [item[\"actual_frequency\"] for item in zipf_table]\n",
        "    zipf_distribution= [item[\"zipf_frequency\"] for item in zipf_table]\n",
        "    plt.figure(figsize=(10, 6))\n",
        "    plt.loglog(ranks, actual_frequencies, marker='o', linestyle='-', color='b', label='Actual Frequency')\n",
        "    plt.loglog(ranks, zipf_distribution, marker='x', linestyle='--', color='r', label='Zipf Distribution')\n",
        "    plt.xlabel('Rank (log scale)')\n",
        "    plt.ylabel('Frequency (log scale)')\n",
        "    plt.title('Zipf Distribution of Thirukural Words')\n",
        "    plt.grid(True)\n",
        "    plt.legend()\n",
        "    plt.savefig('zipf_distribution.png')\n",
        "    plt.show()\n",
        "\n",
        "\n",
        "\n",
        "\n",
        "def save_zipf_table(zipf_table, file_path):\n",
        "    df = pd.DataFrame(zipf_table)\n",
        "    df.to_csv(file_path, index=False)"
      ],
      "metadata": {
        "id": "RCYCN4VcEOss"
      },
      "execution_count": 51,
      "outputs": []
    },
    {
      "cell_type": "code",
      "source": [
        "for_printing=word_frequencies.most_common(60)\n",
        "print(for_printing)"
      ],
      "metadata": {
        "colab": {
          "base_uri": "https://localhost:8080/"
        },
        "id": "vyQVuFtXyF5m",
        "outputId": "3634770e-9911-44ca-fabc-1d26c6deb9bb"
      },
      "execution_count": 49,
      "outputs": [
        {
          "output_type": "stream",
          "name": "stdout",
          "text": [
            "[('படும்', 42), ('தரும்', 37), ('இல்', 32), ('கெடும்', 28), ('இல்லை', 22), ('செயல்', 22), ('என்னும்', 22), ('தலை', 21), ('எல்லாம்', 21), ('கொளல்', 20), ('காமம்', 20), ('பெறின்', 19), ('பவர்', 19), ('உலகு', 18), ('அரிது', 18), ('இன்பம்', 18), ('தவர்', 18), ('விடல்', 18), ('யவர்', 18), ('கண்ணும்', 18), ('விடும்', 17), ('கண்', 17), ('கடை', 16), ('தற்று', 16), ('செயின்', 16), ('வேண்டும்', 15), ('எஞ்ஞான்றும்', 15), ('நன்று', 15), ('நட்பு', 15), ('வார்', 14), ('உடைத்து', 14), ('இன்மை', 14), ('தார்', 13), ('பெருமை', 13), ('ஆற்றின்', 13), ('வரும்', 13), ('இன்னா', 13), ('மன்னவன்', 13), ('வேந்தன்', 13), ('ஆக்கம்', 12), ('பிற', 12), ('துணை', 12), ('கேண்மை', 12), ('நெஞ்சு', 12), ('இனிது', 11), ('என்பது', 11), ('செல்வம்', 11), ('என்று', 11), ('இடும்பை', 10), ('வாழ்க்கை', 10), ('செய்யும்', 10), ('சொல்', 10), ('கொல்லோ', 10), ('பேதைமை', 10), ('யாதெனின்', 10), ('வினை', 10), ('துன்பம்', 10), ('காணின்', 10), ('பேதை', 10), ('உலகம்', 9)]\n"
          ]
        }
      ]
    },
    {
      "cell_type": "markdown",
      "source": [
        " “தரும்” has a frequency of 37, while the Zipf’s law predicts that it should have a frequency of 21, based on its rank of 2. This means that the word “தரும்” is more frequent than expected by the law, and it has a deviation of 16 and a percentage of 176.19%. However, this does not mean that the Zipf’s law is invalid or inaccurate. It just means that the word “தரும்” is an outlier or an exception to the general pattern. There could be many reasons for this, such as the meaning, usage, or importance of the word in Thirukural.\n",
        "\n",
        "If you look at the graph of the Zipf distribution of Thirukural words, you will see that most of the points lie close to the blue line, which represents the Zipf’s law. This means that most of the words have frequencies that are close to the expected values by the law. However, there are also some points that are far away from the line, which means that they have frequencies that are much higher or lower than expected. These are the outliers or exceptions that do not follow the Zipf’s law perfectly.\n",
        "\n",
        "The Zipf’s law is not a deterministic or exact formula that can predict every word frequency precisely. It is a probabilistic or approximate model that can capture the overall distribution and behavior of word frequencies in natural language texts. It is based on empirical data and statistical analysis, and it has some limitations and assumptions. Therefore, it is normal and expected to have some variations and deviations from the Zipf’s law in any text, especially when dealing with small sample sizes or specific genres or domains."
      ],
      "metadata": {
        "id": "1_su0z7l6qBc"
      }
    },
    {
      "cell_type": "markdown",
      "source": [
        "Citations\n",
        "\n",
        "https://www.codedrome.com/zipfs-law-in-python/\n",
        "\n",
        "\n",
        "https://en.wikipedia.org/wiki/Zipf%27s_law\n",
        "\n",
        "https://iq.opengenus.org/zipfs-law/\n",
        "\n",
        "\n",
        "Data\n",
        "\n",
        "https://www.kaggle.com/datasets/rahulvks/thirukkural?resource=download\n",
        "\n",
        "\n"
      ],
      "metadata": {
        "id": "FOFthuEvE4lr"
      }
    },
    {
      "cell_type": "code",
      "source": [],
      "metadata": {
        "id": "LOreV3CBEaj8"
      },
      "execution_count": null,
      "outputs": []
    }
  ]
}